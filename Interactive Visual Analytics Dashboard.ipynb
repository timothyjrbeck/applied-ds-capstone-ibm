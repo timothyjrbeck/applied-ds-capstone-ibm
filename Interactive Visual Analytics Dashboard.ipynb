{
 "cells": [
  {
   "cell_type": "code",
   "execution_count": null,
   "metadata": {
    "tags": []
   },
   "outputs": [],
   "source": [
    "# Import required libraries\n",
    "import pandas as pd\n",
    "import dash\n",
    "import dash_html_components as html\n",
    "import dash_core_components as dcc\n",
    "from dash.dependencies import Input, Output\n",
    "import plotly.express as px\n",
    "import wget"
   ]
  },
  {
   "cell_type": "code",
   "execution_count": null,
   "metadata": {},
   "outputs": [],
   "source": [
    "# Read the airline data into pandas dataframe\n",
    "spacex_df = pd.read_csv(\"spacex_launch_dash.csv\")\n",
    "max_payload = spacex_df['Payload Mass (kg)'].max()\n",
    "min_payload = spacex_df['Payload Mass (kg)'].min()"
   ]
  },
  {
   "cell_type": "code",
   "execution_count": null,
   "metadata": {},
   "outputs": [],
   "source": [
    "# Create a dash application\n",
    "app = dash.Dash(__name__)"
   ]
  },
  {
   "cell_type": "code",
   "execution_count": null,
   "metadata": {},
   "outputs": [],
   "source": [
    "# Create an app layout\n",
    "app.layout = html.Div(children=[html.H1('SpaceX Launch Records Dashboard',\n",
    "                                        style={'textAlign': 'center', 'color': '#503D36',\n",
    "                                               'font-size': 40}),\n",
    "                                # TASK 1: Add a dropdown list to enable Launch Site selection\n",
    "                                # The default select value is for ALL sites\n",
    "                                dcc.Dropdown(id='site-dropdown',\n",
    "                                             options = [\n",
    "                                                 {'label' : 'All Sites' , 'value' : 'ALL'},\n",
    "                                                 {'label' : 'CCAFS LC-40' , 'value' : 'CCAFS LC-40'},\n",
    "                                                 {'label' : 'CCAFS SLC-40' , 'value' : 'CCAFS SLC-40'},\n",
    "                                                 {'label' : 'KSC LC-39A' , 'value' : 'KSC LC-39A'},\n",
    "                                                 {'label' : 'VAFB SLC-4E' , 'value' : 'VAFB SLC-4E'},\n",
    "                                                       ],\n",
    "                                             value='ALL',\n",
    "                                             placeholder='Select a Launch Site',\n",
    "                                             searchable= True\n",
    "                                            ),\n",
    "                                html.Br(),\n",
    "\n",
    "                                # TASK 2: Add a pie chart to show the total successful launches count for all sites\n",
    "                                # If a specific launch site was selected, show the Success vs. Failed counts for the site\n",
    "                                html.Div(dcc.Graph(id='success-pie-chart')),\n",
    "                                html.Br(),\n",
    "\n",
    "                                html.P(\"Payload range (Kg):\"),\n",
    "                                # TASK 3: Add a slider to select payload range\n",
    "                                dcc.RangeSlider(id='payload-slider',\n",
    "                                                min=0, max=10000, step=1000,\n",
    "                                                marks={0:'0',\n",
    "                                                       1000: '1000',\n",
    "                                                       2000: '2000',\n",
    "                                                       3000: '3000',\n",
    "                                                       4000: '4000',\n",
    "                                                       5000: '5000',\n",
    "                                                       6000: '6000',\n",
    "                                                       7000: '7000',\n",
    "                                                       8000: '8000',\n",
    "                                                       9000: '9000',\n",
    "                                                       10000: '10000'\n",
    "                                                       },\n",
    "                                                value=[min_payload, max_payload]\n",
    "                                                ),\n",
    "\n",
    "                                # TASK 4: Add a scatter chart to show the correlation between payload and launch success\n",
    "                                html.Div(dcc.Graph(id='success-payload-scatter-chart')),\n",
    "                                ])\n"
   ]
  },
  {
   "cell_type": "code",
   "execution_count": null,
   "metadata": {},
   "outputs": [],
   "source": [
    "# TASK 2:\n",
    "# Add a callback function for `site-dropdown` as input, `success-pie-chart` as output\n",
    "@app.callback(Output(component_id='success-pie-chart', component_property='figure'),\n",
    "            Input(component_id='site-dropdown', component_property='value'))\n",
    "\n",
    "def get_pie_chart(launch_site):\n",
    "    if launch_site == 'ALL':\n",
    "        fig = px.pie(spacex_df, values='class',\n",
    "        names='Launch Site',\n",
    "        title='Success Rate by each Launch Site')\n",
    "        return fig\n",
    "    else:\n",
    "        launch_df = spacex_df.groupby(['Launch Site','class'])['class'].count()\n",
    "        launch_df = pd.DataFrame(launch_df[launch_site])\n",
    "        fig = px.pie(launch_df, values = 'class', names = launch_df.index,\n",
    "                     title=f\"Total Success Launches for Launch Site {launch_site}\")\n",
    "        return fig\n"
   ]
  },
  {
   "cell_type": "code",
   "execution_count": null,
   "metadata": {},
   "outputs": [],
   "source": [
    "# TASK 4:\n",
    "# Add a callback function for `site-dropdown` and `payload-slider` as inputs, `success-payload-scatter-chart` as output\n",
    "@app.callback(Output(component_id='success-payload-scatter-chart',component_property='figure'),\n",
    "             [Input(component_id='site-dropdown',component_property='value'),\n",
    "              Input(component_id='payload-slider',component_property='value')])\n",
    "\n",
    "def scatter_plot(launch_site, value):\n",
    "    min_payload = value[0]\n",
    "    max_payload = value[1]\n",
    "    df_mass = spacex_df[spacex_df['Payload Mass (kg)'].between(min_payload,max_payload)]\n",
    "\n",
    "    if launch_site=='ALL':\n",
    "        fig=px.scatter(df_mass,x='Payload Mass (kg)',y='class',\n",
    "                       color='Booster Version Category',\n",
    "                       title='Payload Mass x Successful landing of all Booster Versions')\n",
    "        return fig\n",
    "    else:\n",
    "        df_mass = df_mass[df_mass['Launch Site']==launch_site]\n",
    "        fig = px.scatter(df_mass,x='Payload Mass (kg)',y='class',\n",
    "                         color='Booster Version Category',\n",
    "                         title='Payload Mass x Successful landing of ' + launch_site)\n",
    "        return fig\n"
   ]
  },
  {
   "cell_type": "code",
   "execution_count": null,
   "metadata": {},
   "outputs": [],
   "source": [
    "# Run the app\n",
    "if __name__ == '__main__':\n",
    "    app.run_server()"
   ]
  }
 ],
 "metadata": {
  "kernelspec": {
   "display_name": "Python 3",
   "language": "python",
   "name": "python3"
  },
  "language_info": {
   "codemirror_mode": {
    "name": "ipython",
    "version": 3
   },
   "file_extension": ".py",
   "mimetype": "text/x-python",
   "name": "python",
   "nbconvert_exporter": "python",
   "pygments_lexer": "ipython3",
   "version": "3.8.8"
  }
 },
 "nbformat": 4,
 "nbformat_minor": 4
}
